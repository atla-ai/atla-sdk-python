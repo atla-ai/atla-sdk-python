{
  "cells": [
    {
      "cell_type": "markdown",
      "metadata": {
        "id": "h3YPYaUE3ih0"
      },
      "source": [
        "# Guide: Hallucination Scoring"
      ]
    },
    {
      "cell_type": "markdown",
      "metadata": {
        "id": "wx8-ifwR3zNw"
      },
      "source": [
        "This cookbook gets you started detecting hallucinations, and runs over a sample set from the public benchmark [RAGTruth](https://arxiv.org/abs/2401.00396) benchmark - a large-scale corpus of naturally generated hallucinations, featuring detailed word-level annotations specifically designed for retrieval-augmented generation (RAG) scenarios.\n",
        "<br>\n",
        "\n",
        "We check for hallucination in AI responses i.e. 'Is the information provided in the response directly supported by the context given in the related passages?' and compare how Selene's scores align with the human labels.\n",
        "\n",
        "[![Open in Colab](https://colab.research.google.com/assets/colab-badge.svg)](https://colab.research.google.com/github/atla-ai/atla-sdk-python/blob/main/cookbooks/Atla_Selene_Hallucination.ipynb)"
      ]
    },
    {
      "cell_type": "markdown",
      "metadata": {
        "id": "PRKjUwbbG7PA"
      },
      "source": [
        "## Setup"
      ]
    },
    {
      "cell_type": "markdown",
      "metadata": {
        "id": "OgmXjTgy0x_4"
      },
      "source": [
        "### Install dependencies"
      ]
    },
    {
      "cell_type": "code",
      "execution_count": 8,
      "metadata": {
        "id": "RwwYpPylnFmp"
      },
      "outputs": [],
      "source": [
        "# Install Atla.\n",
        "!pip install atla --quiet\n",
        "\n",
        "# Install other dependencies for this notebook.\n",
        "!pip install asyncio --quiet\n",
        "!pip install datasets --quiet\n",
        "!pip install matplotlib --quiet\n",
        "!pip install nest_asyncio --quiet\n",
        "!pip install pandas --quiet\n",
        "!pip install scikit-learn --quiet\n",
        "!pip install seaborn --quiet"
      ]
    },
    {
      "cell_type": "markdown",
      "metadata": {
        "id": "hN64jgLm5k4b"
      },
      "source": [
        "### Set up Atla API key"
      ]
    },
    {
      "cell_type": "markdown",
      "metadata": {
        "id": "TibVnMY9oBIt"
      },
      "source": [
        "\n",
        "You can get your Atla API key for free [here](https://www.atla-ai.com/sign-up)."
      ]
    },
    {
      "cell_type": "code",
      "execution_count": 9,
      "metadata": {
        "id": "R_2g7c_Jb_Ck"
      },
      "outputs": [],
      "source": [
        "from atla import Atla, AsyncAtla\n",
        "\n",
        "ATLA_API_KEY = \"<your_api_key>\" # replace with your own API key\n",
        "\n",
        "client = Atla(api_key=ATLA_API_KEY)\n",
        "async_client = AsyncAtla(api_key=ATLA_API_KEY)"
      ]
    },
    {
      "cell_type": "markdown",
      "metadata": {
        "id": "B_0-LdFY7_UT"
      },
      "source": [
        "## Run an initial example"
      ]
    },
    {
      "cell_type": "markdown",
      "metadata": {
        "id": "uAz-SCYR3N4k"
      },
      "source": [
        "### Inspect the data"
      ]
    },
    {
      "cell_type": "markdown",
      "metadata": {
        "id": "a2ePn9j38yfB"
      },
      "source": [
        "Here's a quick example for evaluating an AI legal assistant from our [RAG quickstart](https://docs.atla-ai.com/build/use-cases/rag)."
      ]
    },
    {
      "cell_type": "code",
      "execution_count": 10,
      "metadata": {
        "id": "DAz-i4dGGpnG"
      },
      "outputs": [],
      "source": [
        "# This is the input that was provided to the LLM\n",
        "example_input = \"Is it legal to monitor employee emails under European privacy laws?\"\n",
        "\n",
        "# This is the RAG context that was provided to the LLM\n",
        "example_context = \"\"\"- European privacy laws, including GDPR, allow for the monitoring of employee emails under strict conditions.\n",
        "- The employer must demonstrate that the monitoring is necessary for a legitimate purpose, such as protecting company assets or compliance with legal obligations.\n",
        "- Employees must be informed about the monitoring in advance, and the privacy impact should be assessed to minimize intrusion.\"\"\"\n",
        "\n",
        "# This is the response the LLM gave\n",
        "example_answer = \"\"\"Monitoring employee emails is permissible under European privacy laws like GDPR, provided there's a legitimate purpose.\"\"\"\n",
        "\n",
        "# This answer is not a hallucination as it contains information that is supported by the provided context."
      ]
    },
    {
      "cell_type": "markdown",
      "metadata": {
        "id": "UFns3KLf3nLx"
      },
      "source": [
        "### Run the Atla API"
      ]
    },
    {
      "cell_type": "markdown",
      "metadata": {
        "id": "DlPjPcFHoBIu"
      },
      "source": [
        "Let's try using the Atla API to get a score and feedback from Selene.\n",
        "\n",
        "We can start off using one of our [default metrics](https://docs.atla-ai.com/build/metrics/default). These metrics cover common evaluation scenarios and are optimized for immediate use.\n",
        "\n",
        "\n",
        "<br>\n",
        "\n",
        "In this RAG case, we'll want to use `atla_default_faithfulness`. This metric evaluates how faithful a model's response is to the provided context and returns a [\"Likert\"](https://en.wikipedia.org/wiki/Likert_scale) score from 1-5.\n",
        "\n",
        "> Certain default metrics require specific fields to be provided. For `atla_default_faithfulness`, we need to provide:\n",
        ">\n",
        "> * `model_input`\n",
        "> * `model_output`\n",
        "> * `model_context`"
      ]
    },
    {
      "cell_type": "code",
      "execution_count": 11,
      "metadata": {
        "colab": {
          "base_uri": "https://localhost:8080/"
        },
        "id": "2RZ0GW_CoBIu",
        "outputId": "9fc2013f-d8f8-4c09-c03e-23983f929c9a"
      },
      "outputs": [
        {
          "name": "stdout",
          "output_type": "stream",
          "text": [
            "\n",
            "Score: 4\n",
            "\n",
            "Critique:\n",
            "The response accurately reflects the context by stating that monitoring employee\n",
            "emails is permissible under European privacy laws like GDPR, provided there's a\n",
            "legitimate purpose. This aligns with the information given that employers must\n",
            "demonstrate a legitimate purpose for monitoring. However, it could be improved\n",
            "by mentioning the necessity of informing employees in advance and assessing the\n",
            "privacy impact, as these are also crucial conditions mentioned in the context.\n",
            "Overall, the response is concise and directly supported by the context, with\n",
            "only minor aspects not covered.\n"
          ]
        }
      ],
      "source": [
        "import textwrap\n",
        "\n",
        "evaluation = client.evaluation.create(\n",
        "    model_id=\"atla-selene\",\n",
        "    model_input=example_input,\n",
        "    model_context=example_context,\n",
        "    model_output=example_answer,\n",
        "    metric_name=\"atla_default_faithfulness\" # Choose the faithfulness metric\n",
        ").result.evaluation\n",
        "\n",
        "print(\"\\nScore:\", evaluation.score) # Print Selene's score\n",
        "print(\"\\nCritique:\")\n",
        "print(\"\\n\".join(textwrap.wrap(evaluation.critique, width=80))) # Print Selene's critique\n"
      ]
    },
    {
      "cell_type": "markdown",
      "metadata": {
        "id": "gFIsEm0U4dtc"
      },
      "source": [
        "### Customize evaluation criteria"
      ]
    },
    {
      "cell_type": "markdown",
      "metadata": {
        "id": "V_T3JHO9oBIu"
      },
      "source": [
        "`atla_default_faithfulness`'s 1-5 scale is fine-grained rather than a simple classification. If we want to score our responses as a binary pass/fail, we could set a threshold on the response score (e.g., anything 3 or below is a fail).\n",
        "\n",
        "<br>\n",
        "\n",
        "Alternatively, we can configure Selene to use a different evaluation criteria. Let's say we annotate our test samples `0` or `1` like in the dataset we will explore later, where:\n",
        "\n",
        "- `0` is scored if the response contains information not supported by the passages (\"hallucination\")\n",
        "- `1` is scored if the response is factually accurate and supported by the passages\n",
        "\n",
        "We can define this and replace the `metric_name` argument with our custom `evaluation_criteria`. This way, we can directly get our classification.\n",
        "\n",
        "> Note that **only one** of `metric_name` and `evaluation_criteria` can be used at a time."
      ]
    },
    {
      "cell_type": "code",
      "execution_count": 12,
      "metadata": {
        "colab": {
          "base_uri": "https://localhost:8080/"
        },
        "id": "-iyGpR7-oBIu",
        "outputId": "609c8305-8c0b-4e1b-b69f-72a7befcbe65"
      },
      "outputs": [
        {
          "name": "stdout",
          "output_type": "stream",
          "text": [
            "\n",
            "Score: 1\n",
            "\n",
            "Critique:\n",
            "The response accurately reflects the information provided in the context\n",
            "regarding the conditions under which employee emails can be monitored under\n",
            "European privacy laws. It correctly states that monitoring is permissible for a\n",
            "legitimate purpose, aligning with the details given in the context. However, it\n",
            "could be improved by mentioning the necessity of informing employees and\n",
            "assessing privacy impact, as these are crucial aspects of the law. Despite this,\n",
            "the response remains factually accurate and directly supported by the context.\n"
          ]
        }
      ],
      "source": [
        "hallucination_criteria = \"\"\"Evaluate whether the information provided in the response is factually accurate and directly supported by the context given in the related passages.\n",
        "  0: The response contains any information that is not supported by the passages, includes fabricated details, or misinterprets the information from the passages.\n",
        "  1: The response is factually accurate and directly supported by the information provided in the passages, without any fabricated or hallucinated details.\"\"\"\n",
        "\n",
        "evaluation = client.evaluation.create(\n",
        "    model_id=\"atla-selene\",\n",
        "    model_input=example_input,\n",
        "    model_context=example_context,\n",
        "    model_output=example_answer,\n",
        "    evaluation_criteria=hallucination_criteria # Provide the evaluation criteria\n",
        ").result.evaluation\n",
        "\n",
        "print(\"\\nScore:\", evaluation.score) # Print Selene's score\n",
        "print(\"\\nCritique:\")\n",
        "print(\"\\n\".join(textwrap.wrap(evaluation.critique, width=80))) # Print Selene's critique\n"
      ]
    },
    {
      "cell_type": "markdown",
      "metadata": {
        "id": "0bYEV4w56fJ8"
      },
      "source": [
        "**We will use this hallucination criteria prompt in the next section** 🔽"
      ]
    },
    {
      "cell_type": "markdown",
      "metadata": {
        "id": "MSmPK1ssoBIu"
      },
      "source": [
        "## Run batch evals"
      ]
    },
    {
      "cell_type": "markdown",
      "metadata": {
        "id": "pgeAopoO6Ss6"
      },
      "source": [
        "If we want to [test multiple examples](https://docs.atla-ai.com/build/best-practices), we can use Atla's async client to run multiple evaluations in parallel."
      ]
    },
    {
      "cell_type": "markdown",
      "metadata": {
        "id": "E5jOVNSsK-Zq"
      },
      "source": [
        "### Load our hallucination test data"
      ]
    },
    {
      "cell_type": "markdown",
      "metadata": {
        "id": "_SPorG-L-ibQ"
      },
      "source": [
        "We load test data from the publicly accessible [RAGTruth](https://arxiv.org/abs/2401.00396) benchmark using a [Hugging Face dataset](https://huggingface.co/datasets/flowaicom/RAGTruth_test).\n",
        "\n",
        "This dataset measures **RAG hallucination**:\n",
        "\n",
        "> *Based on the provided news article, does the summary contain **only** information that is supported by or directly inferable from the news article?*\n",
        "\n",
        "Examples are scored `0` if they contain information **not supported** by the passages (\"hallucination\") and `1` if they are factually accurate and supported by the passages."
      ]
    },
    {
      "cell_type": "code",
      "execution_count": 13,
      "metadata": {
        "colab": {
          "base_uri": "https://localhost:8080/",
          "height": 173,
          "referenced_widgets": [
            "f55b9c35554942828e89387334a79b24",
            "34335caab6aa443ea19e11342638fb13",
            "6cf793c8dc7f45e0a9591842a9741131",
            "4240dccc3e0a46f2a7a7eae026ed31aa",
            "deec5c84cb0d45e6b98cb07059d0ea31",
            "5e302a370a7944aa9ceb23f622520cae",
            "079745efe4b44943b93e16f10f744cb5",
            "e0847a0381c44f8b8dec21b7fef130e0",
            "6e27577efa394fe1b69d80bff04e7ce1",
            "bfc579f5c59146b686e7ae71f75f396d",
            "ad02203c01494eb89f38eb3e479eedde"
          ]
        },
        "id": "myOoz3I0zNrB",
        "outputId": "37c8cac4-f1da-4880-8227-0a1f5ca092ea"
      },
      "outputs": [
        {
          "name": "stderr",
          "output_type": "stream",
          "text": [
            "/usr/local/lib/python3.11/dist-packages/huggingface_hub/utils/_auth.py:94: UserWarning: \n",
            "The secret `HF_TOKEN` does not exist in your Colab secrets.\n",
            "To authenticate with the Hugging Face Hub, create a token in your settings tab (https://huggingface.co/settings/tokens), set it as secret in your Google Colab and restart your session.\n",
            "You will be able to reuse this secret in all of your notebooks.\n",
            "Please note that authentication is recommended but still optional to access public models or datasets.\n",
            "  warnings.warn(\n"
          ]
        },
        {
          "data": {
            "application/vnd.jupyter.widget-view+json": {
              "model_id": "f55b9c35554942828e89387334a79b24",
              "version_major": 2,
              "version_minor": 0
            },
            "text/plain": [
              "README.md:   0%|          | 0.00/4.23k [00:00<?, ?B/s]"
            ]
          },
          "metadata": {},
          "output_type": "display_data"
        }
      ],
      "source": [
        "from datasets import load_dataset\n",
        "from itertools import islice\n",
        "\n",
        "# Load only the first 25 samples\n",
        "RAGTruth_dataset = load_dataset(\"flowaicom/RAGTruth_test\", split=\"qa\", streaming=True) # set token = <YOUR HUGGINGFACE API KEY> if running into permission issues\n",
        "RAGTruth_dataset = list(islice(RAGTruth_dataset, 25))\n"
      ]
    },
    {
      "cell_type": "markdown",
      "metadata": {
        "id": "PGAfhzlvoBIv"
      },
      "source": [
        "### Process the data"
      ]
    },
    {
      "cell_type": "markdown",
      "metadata": {
        "id": "WOuz49vC6mVt"
      },
      "source": [
        "Now, we need to do a bit of preprocessing with [`pandas`](https://pandas.pydata.org/)."
      ]
    },
    {
      "cell_type": "code",
      "execution_count": 14,
      "metadata": {
        "colab": {
          "base_uri": "https://localhost:8080/",
          "height": 206
        },
        "id": "w4RcEe5U_sJV",
        "outputId": "f91582c7-42e2-45a5-be72-3da06a4517a1"
      },
      "outputs": [
        {
          "data": {
            "application/vnd.google.colaboratory.intrinsic+json": {
              "summary": "{\n  \"name\": \"hallucination_df\",\n  \"rows\": 25,\n  \"fields\": [\n    {\n      \"column\": \"id\",\n      \"properties\": {\n        \"dtype\": \"number\",\n        \"std\": 54,\n        \"min\": 11904,\n        \"max\": 12066,\n        \"num_unique_values\": 25,\n        \"samples\": [\n          12014,\n          12022,\n          11904\n        ],\n        \"semantic_type\": \"\",\n        \"description\": \"\"\n      }\n    },\n    {\n      \"column\": \"question\",\n      \"properties\": {\n        \"dtype\": \"category\",\n        \"num_unique_values\": 5,\n        \"samples\": [\n          \"what is the difference between tartate and succinate\",\n          \"magellan of virginia provider\",\n          \"wat is dna\"\n        ],\n        \"semantic_type\": \"\",\n        \"description\": \"\"\n      }\n    },\n    {\n      \"column\": \"passages\",\n      \"properties\": {\n        \"dtype\": \"category\",\n        \"num_unique_values\": 5,\n        \"samples\": [\n          \"passage 1:9. Get help from a doctor now \\u203a. Medication duration: Succinate (toprol) is the long acting form of metoprolol where as tartrate (lopressor) is the shorter acting form. Toprol can be taken once a day and Lopressor is usually taken at least twice a day....Read more.Great you're all set!. Get help from a doctor now \\u203a. Medication duration: Succinate (toprol) is the long acting form of metoprolol where as tartrate (lopressor) is the shorter acting form. Toprol can be taken once a day and Lopressor is usually taken at least twice a day.\\n\\npassage 2:Tartrate vs Succinate. The key difference between tartrate and succinate is that succinate is derived from the succinic acid and tartrate is derived from the tartaric acid. These two chemical substances are widely used in the beverage industry and drug manufacturing.Succinic acid is ethan-1,2-dicarboxylic acid. Succinate form of metoprolol is an extended release drug and it plays its role in the circulatory system for 24 hours. However, the tartrate form of metoprolol does not appear in the blood stream for 24 hours because metoprolol tartrate is an immediate-release drug.\\n\\npassage 3:Release time. The primary difference between metoprolol succinate and metoprolol tartrate is the length of time that the drugs stay in your bloodstream. Metoprolol succinate will stay in a person's bloodstream for 24 complete hours. This means that the medication is a once per day pill.Metoprolol tartrate, on the other hand, will not stay in the bloodstream as long and thus needs to be taken at regular intervals.etoprolol succinate has a greater dehydrating effect. Thus, the side effects constipation and dry mouth are primarily associated with this version of the medication. Conversely, metoprolol tartrate may cause diarrhea. It also has the potential to cause sleep issues such as insomnia or unusual dreams.\\n\\n\",\n          \"passage 1:Magellan offers continuing education clock hours/credits for the e-learning courses listed on this page. CE Clock Hours/Credits Magellan is approved to offer CE clock hours/credits by the following organizations when indicated on the course promotional material. American Psychological Association (APA) Association of Social Work Boards (ASWB)\\n\\npassage 2:Magellan of Virginia was selected by the Virginia Department of Medical Assistance Services (DMAS) to serve as the Behavioral Health Services Administrator (BHSA). Magellan administers behavioral health services for members enrolled in Virginia\\u2019s Medicaid and FAMIS programs. This site is for members receiving behavioral health services in Virginia, their families and friends, and providers. Mission. Magellan of Virginia ensures quality behavioral health services are delivered to Virginia Medicaid enrollees. Partnering with members, providers and stakeholders, we elevate the quality and satisfaction in healthcare delivery. We work to improve the overall health and well-being of Virginians.\\n\\npassage 3:Provider Q&A Sessions on Fridays Magellan of Virginia hosts a weekly call each Friday from 1 p.m. - 2:30 p.m. The call is open to all providers to address their questions and issues. The weekly calls will continue until further notice.\\n\\n\",\n          \"passage 1:Report Abuse. Deoxyribonucleic acid (DNA) is a nucleic acid that contains the genetic instructions used in the development and functioning of all known living organisms and some viruses. The main role of DNA molecules is the long-term storage of information.eport Abuse. Deoxyribonucleic acid (DNA) is a nucleic acid that contains the genetic instructions used in the development and functioning of all known living organisms and some viruses. The main role of DNA molecules is the long-term storage of information.\\n\\npassage 2:DNA structure. DNA is made up of molecules called nucleotides. Each nucleotide contains a phosphate group, a sugar group and a nitrogen base. The four types of nitrogen bases are adenine (A), thymine (T), guanine (G) and cytosine (C).The order of these bases is what determines DNA's instructions, or genetic code.Similar to the way the order of letters in the alphabet can be used to form a word, the order of nitrogen bases in a DNA sequence forms genes, which in the language of the cell, tells cells how to make proteins.NA structure. DNA is made up of molecules called nucleotides. Each nucleotide contains a phosphate group, a sugar group and a nitrogen base. The four types of nitrogen bases are adenine (A), thymine (T), guanine (G) and cytosine (C).\\n\\npassage 3:DNA is a double helix formed by base pairs attached to a sugar-phosphate backbone. DNA, or deoxyribonucleic acid, is the hereditary material in humans and almost all other organisms.Nearly every cell in a person\\u2019s body has the same DNA.he structure of the double helix is somewhat like a ladder, with the base pairs forming the ladder\\u2019s rungs and the sugar and phosphate molecules forming the vertical sidepieces of the ladder. An important property of DNA is that it can replicate, or make copies of itself.\\n\\n\"\n        ],\n        \"semantic_type\": \"\",\n        \"description\": \"\"\n      }\n    },\n    {\n      \"column\": \"response\",\n      \"properties\": {\n        \"dtype\": \"string\",\n        \"num_unique_values\": 24,\n        \"samples\": [\n          \"Based on the given passages, the main difference between tartate and succinate is their chemical derivation: succinate is derived from succinic acid while tartrate is derived from tartaric acid. Additionally, succinate is an extended-release drug that stays in the bloodstream for 24 hours, making it a once-per-day pill. On the other hand, tartrate is an immediate-release drug that does not stay in the bloodstream for 24 hours and needs to be taken at regular intervals. Another important difference is that succinate has a greater dehydrating effect and may cause side effects like constipation and dry mouth, whereas tartrate may cause diarrhea and sleep issues like insomnia or unusual dreams.\",\n          \"Based on the given passages, DNA (deoxyribonucleic acid) is a nucleic acid that contains the genetic instructions used in the development and functioning of all known living organisms and some viruses. It is a double helix formed by base pairs attached to a sugar-phosphate backbone, with the base pairs forming the ladder's rungs and the sugar and phosphate molecules forming the vertical sidepieces of the ladder. The order of the nitrogen bases in a DNA sequence forms genes, which provide the instructions for making proteins.\",\n          \"Automotive technicians can be paid in various ways depending on factors such as where they work, whether they are paid commission, how much they earn, and the state in which they work. Some may be entitled to overtime under certain conditions. They can be paid based on different combinations of hourly and commission rates, which can vary depending on their specialization. The amount they earn can also vary depending on geographical location. For example, automotive technicians in Alaska have the highest average pay of about $23.70 per hour or $49,400 per year. Some automotive technicians that work in aerospace products and parts manufacturing can earn about $32 per hour or $66,300 per year on average.\"\n        ],\n        \"semantic_type\": \"\",\n        \"description\": \"\"\n      }\n    },\n    {\n      \"column\": \"score\",\n      \"properties\": {\n        \"dtype\": \"number\",\n        \"std\": 0,\n        \"min\": 0,\n        \"max\": 1,\n        \"num_unique_values\": 2,\n        \"samples\": [\n          0,\n          1\n        ],\n        \"semantic_type\": \"\",\n        \"description\": \"\"\n      }\n    }\n  ]\n}",
              "type": "dataframe",
              "variable_name": "hallucination_df"
            },
            "text/html": [
              "\n",
              "  <div id=\"df-f983e050-6f0f-4740-9677-b7404965290a\" class=\"colab-df-container\">\n",
              "    <div>\n",
              "<style scoped>\n",
              "    .dataframe tbody tr th:only-of-type {\n",
              "        vertical-align: middle;\n",
              "    }\n",
              "\n",
              "    .dataframe tbody tr th {\n",
              "        vertical-align: top;\n",
              "    }\n",
              "\n",
              "    .dataframe thead th {\n",
              "        text-align: right;\n",
              "    }\n",
              "</style>\n",
              "<table border=\"1\" class=\"dataframe\">\n",
              "  <thead>\n",
              "    <tr style=\"text-align: right;\">\n",
              "      <th></th>\n",
              "      <th>id</th>\n",
              "      <th>question</th>\n",
              "      <th>passages</th>\n",
              "      <th>response</th>\n",
              "      <th>score</th>\n",
              "    </tr>\n",
              "  </thead>\n",
              "  <tbody>\n",
              "    <tr>\n",
              "      <th>0</th>\n",
              "      <td>11904</td>\n",
              "      <td>how do automotive technicians get paid</td>\n",
              "      <td>passage 1:In short, whether mechanics and tech...</td>\n",
              "      <td>Automotive technicians can be paid in various ...</td>\n",
              "      <td>1</td>\n",
              "    </tr>\n",
              "    <tr>\n",
              "      <th>1</th>\n",
              "      <td>11905</td>\n",
              "      <td>how do automotive technicians get paid</td>\n",
              "      <td>passage 1:In short, whether mechanics and tech...</td>\n",
              "      <td>Automotive technicians can be paid through a c...</td>\n",
              "      <td>1</td>\n",
              "    </tr>\n",
              "    <tr>\n",
              "      <th>2</th>\n",
              "      <td>11906</td>\n",
              "      <td>how do automotive technicians get paid</td>\n",
              "      <td>passage 1:In short, whether mechanics and tech...</td>\n",
              "      <td>Unable to answer based on given passages.</td>\n",
              "      <td>1</td>\n",
              "    </tr>\n",
              "    <tr>\n",
              "      <th>3</th>\n",
              "      <td>11907</td>\n",
              "      <td>how do automotive technicians get paid</td>\n",
              "      <td>passage 1:In short, whether mechanics and tech...</td>\n",
              "      <td>Based on the provided passages, here is the an...</td>\n",
              "      <td>1</td>\n",
              "    </tr>\n",
              "    <tr>\n",
              "      <th>4</th>\n",
              "      <td>11908</td>\n",
              "      <td>how do automotive technicians get paid</td>\n",
              "      <td>passage 1:In short, whether mechanics and tech...</td>\n",
              "      <td>Based on the provided passages, automotive tec...</td>\n",
              "      <td>0</td>\n",
              "    </tr>\n",
              "  </tbody>\n",
              "</table>\n",
              "</div>\n",
              "    <div class=\"colab-df-buttons\">\n",
              "\n",
              "  <div class=\"colab-df-container\">\n",
              "    <button class=\"colab-df-convert\" onclick=\"convertToInteractive('df-f983e050-6f0f-4740-9677-b7404965290a')\"\n",
              "            title=\"Convert this dataframe to an interactive table.\"\n",
              "            style=\"display:none;\">\n",
              "\n",
              "  <svg xmlns=\"http://www.w3.org/2000/svg\" height=\"24px\" viewBox=\"0 -960 960 960\">\n",
              "    <path d=\"M120-120v-720h720v720H120Zm60-500h600v-160H180v160Zm220 220h160v-160H400v160Zm0 220h160v-160H400v160ZM180-400h160v-160H180v160Zm440 0h160v-160H620v160ZM180-180h160v-160H180v160Zm440 0h160v-160H620v160Z\"/>\n",
              "  </svg>\n",
              "    </button>\n",
              "\n",
              "  <style>\n",
              "    .colab-df-container {\n",
              "      display:flex;\n",
              "      gap: 12px;\n",
              "    }\n",
              "\n",
              "    .colab-df-convert {\n",
              "      background-color: #E8F0FE;\n",
              "      border: none;\n",
              "      border-radius: 50%;\n",
              "      cursor: pointer;\n",
              "      display: none;\n",
              "      fill: #1967D2;\n",
              "      height: 32px;\n",
              "      padding: 0 0 0 0;\n",
              "      width: 32px;\n",
              "    }\n",
              "\n",
              "    .colab-df-convert:hover {\n",
              "      background-color: #E2EBFA;\n",
              "      box-shadow: 0px 1px 2px rgba(60, 64, 67, 0.3), 0px 1px 3px 1px rgba(60, 64, 67, 0.15);\n",
              "      fill: #174EA6;\n",
              "    }\n",
              "\n",
              "    .colab-df-buttons div {\n",
              "      margin-bottom: 4px;\n",
              "    }\n",
              "\n",
              "    [theme=dark] .colab-df-convert {\n",
              "      background-color: #3B4455;\n",
              "      fill: #D2E3FC;\n",
              "    }\n",
              "\n",
              "    [theme=dark] .colab-df-convert:hover {\n",
              "      background-color: #434B5C;\n",
              "      box-shadow: 0px 1px 3px 1px rgba(0, 0, 0, 0.15);\n",
              "      filter: drop-shadow(0px 1px 2px rgba(0, 0, 0, 0.3));\n",
              "      fill: #FFFFFF;\n",
              "    }\n",
              "  </style>\n",
              "\n",
              "    <script>\n",
              "      const buttonEl =\n",
              "        document.querySelector('#df-f983e050-6f0f-4740-9677-b7404965290a button.colab-df-convert');\n",
              "      buttonEl.style.display =\n",
              "        google.colab.kernel.accessAllowed ? 'block' : 'none';\n",
              "\n",
              "      async function convertToInteractive(key) {\n",
              "        const element = document.querySelector('#df-f983e050-6f0f-4740-9677-b7404965290a');\n",
              "        const dataTable =\n",
              "          await google.colab.kernel.invokeFunction('convertToInteractive',\n",
              "                                                    [key], {});\n",
              "        if (!dataTable) return;\n",
              "\n",
              "        const docLinkHtml = 'Like what you see? Visit the ' +\n",
              "          '<a target=\"_blank\" href=https://colab.research.google.com/notebooks/data_table.ipynb>data table notebook</a>'\n",
              "          + ' to learn more about interactive tables.';\n",
              "        element.innerHTML = '';\n",
              "        dataTable['output_type'] = 'display_data';\n",
              "        await google.colab.output.renderOutput(dataTable, element);\n",
              "        const docLink = document.createElement('div');\n",
              "        docLink.innerHTML = docLinkHtml;\n",
              "        element.appendChild(docLink);\n",
              "      }\n",
              "    </script>\n",
              "  </div>\n",
              "\n",
              "\n",
              "<div id=\"df-6acd415b-3436-472c-899d-9eeb5acda310\">\n",
              "  <button class=\"colab-df-quickchart\" onclick=\"quickchart('df-6acd415b-3436-472c-899d-9eeb5acda310')\"\n",
              "            title=\"Suggest charts\"\n",
              "            style=\"display:none;\">\n",
              "\n",
              "<svg xmlns=\"http://www.w3.org/2000/svg\" height=\"24px\"viewBox=\"0 0 24 24\"\n",
              "     width=\"24px\">\n",
              "    <g>\n",
              "        <path d=\"M19 3H5c-1.1 0-2 .9-2 2v14c0 1.1.9 2 2 2h14c1.1 0 2-.9 2-2V5c0-1.1-.9-2-2-2zM9 17H7v-7h2v7zm4 0h-2V7h2v10zm4 0h-2v-4h2v4z\"/>\n",
              "    </g>\n",
              "</svg>\n",
              "  </button>\n",
              "\n",
              "<style>\n",
              "  .colab-df-quickchart {\n",
              "      --bg-color: #E8F0FE;\n",
              "      --fill-color: #1967D2;\n",
              "      --hover-bg-color: #E2EBFA;\n",
              "      --hover-fill-color: #174EA6;\n",
              "      --disabled-fill-color: #AAA;\n",
              "      --disabled-bg-color: #DDD;\n",
              "  }\n",
              "\n",
              "  [theme=dark] .colab-df-quickchart {\n",
              "      --bg-color: #3B4455;\n",
              "      --fill-color: #D2E3FC;\n",
              "      --hover-bg-color: #434B5C;\n",
              "      --hover-fill-color: #FFFFFF;\n",
              "      --disabled-bg-color: #3B4455;\n",
              "      --disabled-fill-color: #666;\n",
              "  }\n",
              "\n",
              "  .colab-df-quickchart {\n",
              "    background-color: var(--bg-color);\n",
              "    border: none;\n",
              "    border-radius: 50%;\n",
              "    cursor: pointer;\n",
              "    display: none;\n",
              "    fill: var(--fill-color);\n",
              "    height: 32px;\n",
              "    padding: 0;\n",
              "    width: 32px;\n",
              "  }\n",
              "\n",
              "  .colab-df-quickchart:hover {\n",
              "    background-color: var(--hover-bg-color);\n",
              "    box-shadow: 0 1px 2px rgba(60, 64, 67, 0.3), 0 1px 3px 1px rgba(60, 64, 67, 0.15);\n",
              "    fill: var(--button-hover-fill-color);\n",
              "  }\n",
              "\n",
              "  .colab-df-quickchart-complete:disabled,\n",
              "  .colab-df-quickchart-complete:disabled:hover {\n",
              "    background-color: var(--disabled-bg-color);\n",
              "    fill: var(--disabled-fill-color);\n",
              "    box-shadow: none;\n",
              "  }\n",
              "\n",
              "  .colab-df-spinner {\n",
              "    border: 2px solid var(--fill-color);\n",
              "    border-color: transparent;\n",
              "    border-bottom-color: var(--fill-color);\n",
              "    animation:\n",
              "      spin 1s steps(1) infinite;\n",
              "  }\n",
              "\n",
              "  @keyframes spin {\n",
              "    0% {\n",
              "      border-color: transparent;\n",
              "      border-bottom-color: var(--fill-color);\n",
              "      border-left-color: var(--fill-color);\n",
              "    }\n",
              "    20% {\n",
              "      border-color: transparent;\n",
              "      border-left-color: var(--fill-color);\n",
              "      border-top-color: var(--fill-color);\n",
              "    }\n",
              "    30% {\n",
              "      border-color: transparent;\n",
              "      border-left-color: var(--fill-color);\n",
              "      border-top-color: var(--fill-color);\n",
              "      border-right-color: var(--fill-color);\n",
              "    }\n",
              "    40% {\n",
              "      border-color: transparent;\n",
              "      border-right-color: var(--fill-color);\n",
              "      border-top-color: var(--fill-color);\n",
              "    }\n",
              "    60% {\n",
              "      border-color: transparent;\n",
              "      border-right-color: var(--fill-color);\n",
              "    }\n",
              "    80% {\n",
              "      border-color: transparent;\n",
              "      border-right-color: var(--fill-color);\n",
              "      border-bottom-color: var(--fill-color);\n",
              "    }\n",
              "    90% {\n",
              "      border-color: transparent;\n",
              "      border-bottom-color: var(--fill-color);\n",
              "    }\n",
              "  }\n",
              "</style>\n",
              "\n",
              "  <script>\n",
              "    async function quickchart(key) {\n",
              "      const quickchartButtonEl =\n",
              "        document.querySelector('#' + key + ' button');\n",
              "      quickchartButtonEl.disabled = true;  // To prevent multiple clicks.\n",
              "      quickchartButtonEl.classList.add('colab-df-spinner');\n",
              "      try {\n",
              "        const charts = await google.colab.kernel.invokeFunction(\n",
              "            'suggestCharts', [key], {});\n",
              "      } catch (error) {\n",
              "        console.error('Error during call to suggestCharts:', error);\n",
              "      }\n",
              "      quickchartButtonEl.classList.remove('colab-df-spinner');\n",
              "      quickchartButtonEl.classList.add('colab-df-quickchart-complete');\n",
              "    }\n",
              "    (() => {\n",
              "      let quickchartButtonEl =\n",
              "        document.querySelector('#df-6acd415b-3436-472c-899d-9eeb5acda310 button');\n",
              "      quickchartButtonEl.style.display =\n",
              "        google.colab.kernel.accessAllowed ? 'block' : 'none';\n",
              "    })();\n",
              "  </script>\n",
              "</div>\n",
              "\n",
              "    </div>\n",
              "  </div>\n"
            ],
            "text/plain": [
              "      id                                question  \\\n",
              "0  11904  how do automotive technicians get paid   \n",
              "1  11905  how do automotive technicians get paid   \n",
              "2  11906  how do automotive technicians get paid   \n",
              "3  11907  how do automotive technicians get paid   \n",
              "4  11908  how do automotive technicians get paid   \n",
              "\n",
              "                                            passages  \\\n",
              "0  passage 1:In short, whether mechanics and tech...   \n",
              "1  passage 1:In short, whether mechanics and tech...   \n",
              "2  passage 1:In short, whether mechanics and tech...   \n",
              "3  passage 1:In short, whether mechanics and tech...   \n",
              "4  passage 1:In short, whether mechanics and tech...   \n",
              "\n",
              "                                            response  score  \n",
              "0  Automotive technicians can be paid in various ...      1  \n",
              "1  Automotive technicians can be paid through a c...      1  \n",
              "2          Unable to answer based on given passages.      1  \n",
              "3  Based on the provided passages, here is the an...      1  \n",
              "4  Based on the provided passages, automotive tec...      0  "
            ]
          },
          "execution_count": 14,
          "metadata": {},
          "output_type": "execute_result"
        }
      ],
      "source": [
        "import pandas as pd\n",
        "import json\n",
        "\n",
        "# Convert to df\n",
        "hallucination_df = pd.DataFrame(RAGTruth_dataset)\n",
        "\n",
        "# Parse the source_info column and create new columns\n",
        "if isinstance(hallucination_df['source_info'].iloc[0], str):\n",
        "    # If source_info is a string, parse it\n",
        "    hallucination_df['source_info'] = hallucination_df['source_info'].apply(json.loads)\n",
        "elif isinstance(hallucination_df['source_info'].iloc[0], dict):\n",
        "    # If source_info is already a dictionary, no need to parse\n",
        "    pass\n",
        "\n",
        "# Extract question and passages\n",
        "hallucination_df['question'] = hallucination_df['source_info'].apply(lambda x: x['question'])\n",
        "hallucination_df['passages'] = hallucination_df['source_info'].apply(lambda x: x['passages'])\n",
        "\n",
        "# Select only the necessary columns\n",
        "hallucination_df = hallucination_df[['id', 'question', 'passages', 'response', 'score']]\n",
        "\n",
        "hallucination_df.head()"
      ]
    },
    {
      "cell_type": "markdown",
      "metadata": {
        "id": "fX0AFDB1oBIv"
      },
      "source": [
        "### Define our async evaluation function"
      ]
    },
    {
      "cell_type": "markdown",
      "metadata": {
        "id": "M_vDMa8b7ykl"
      },
      "source": [
        "This function is flexible enough to be used with a generic dataframe.\n",
        "\n",
        "> Remember, only one of `evaluation_criteria` and `metric_name` can be used at a time."
      ]
    },
    {
      "cell_type": "code",
      "execution_count": 15,
      "metadata": {
        "id": "51dFWF1FoBIv"
      },
      "outputs": [],
      "source": [
        "import asyncio\n",
        "from typing import Optional\n",
        "\n",
        "async def evaluate_responses_atla(\n",
        "    df,\n",
        "    input_col: str,\n",
        "    output_col: str,\n",
        "    evaluation_criteria: Optional[str] = None,\n",
        "    metric_name: Optional[str] = None,\n",
        "    context_col: Optional[str] = None,\n",
        "    ground_truth_col: Optional[str] = None\n",
        ") -> None:\n",
        "    \"\"\"\n",
        "    Asynchronously evaluate responses using Selene and add results to dataframe.\n",
        "    \"\"\"\n",
        "    if evaluation_criteria and metric_name:\n",
        "        raise ValueError(\"Only one of evaluation_criteria or metric_name can be provided\")\n",
        "\n",
        "    async def evaluate_single_row(row):\n",
        "        try:\n",
        "            eval_params = {\n",
        "                \"model_id\": \"atla-selene\",\n",
        "                \"model_input\": row[input_col],\n",
        "                \"model_output\": row[output_col]\n",
        "            }\n",
        "\n",
        "            if evaluation_criteria:\n",
        "                eval_params[\"evaluation_criteria\"] = evaluation_criteria\n",
        "            if metric_name:\n",
        "                eval_params[\"metric_name\"] = metric_name\n",
        "            if context_col and context_col in row:\n",
        "                eval_params[\"model_context\"] = row[context_col]\n",
        "            if ground_truth_col and ground_truth_col in row:\n",
        "                eval_params[\"expected_model_output\"] = row[ground_truth_col]\n",
        "\n",
        "            result = await async_client.evaluation.create(**eval_params)\n",
        "            return result.result.evaluation.score, result.result.evaluation.critique\n",
        "        except Exception as e:\n",
        "            print(f\"Error evaluating row {row.name}: {e}\")\n",
        "            return None, None\n",
        "\n",
        "    df_copy = df.copy()\n",
        "    tasks = [evaluate_single_row(row) for _, row in df_copy.iterrows()]\n",
        "    results = await asyncio.gather(*tasks)\n",
        "\n",
        "    df_copy['selene_score'] = [int(score) if score is not None else None for score, _ in results]\n",
        "    df_copy['selene_critique'] = [critique for _, critique in results]\n",
        "\n",
        "    return df_copy"
      ]
    },
    {
      "cell_type": "markdown",
      "metadata": {
        "id": "buBCpDHj9cjy"
      },
      "source": [
        "### Run custom evaluation criteria"
      ]
    },
    {
      "cell_type": "markdown",
      "metadata": {
        "id": "jCCbShiF8M4t"
      },
      "source": [
        "We apply our function to the RAGTruth dataframe, using the custom `evaluation_criteria` from earlier."
      ]
    },
    {
      "cell_type": "code",
      "execution_count": 16,
      "metadata": {
        "id": "59TUUlnJo-Os"
      },
      "outputs": [],
      "source": [
        "# Helps us run async code in a Colab notebook.\n",
        "import asyncio\n",
        "import nest_asyncio\n",
        "nest_asyncio.apply()\n",
        "\n",
        "# Run the function.\n",
        "hallucination_evaluated = asyncio.run(evaluate_responses_atla(\n",
        "    hallucination_df,\n",
        "    input_col='question',\n",
        "    context_col='passages',\n",
        "    output_col='response',\n",
        "    evaluation_criteria=hallucination_criteria)\n",
        ")"
      ]
    },
    {
      "cell_type": "code",
      "execution_count": 17,
      "metadata": {
        "colab": {
          "base_uri": "https://localhost:8080/",
          "height": 206
        },
        "id": "R8gc4K21oBIv",
        "outputId": "1c32616d-1bcf-4fc0-999c-ddd4591c2446"
      },
      "outputs": [
        {
          "data": {
            "application/vnd.google.colaboratory.intrinsic+json": {
              "summary": "{\n  \"name\": \"hallucination_evaluated\",\n  \"rows\": 25,\n  \"fields\": [\n    {\n      \"column\": \"id\",\n      \"properties\": {\n        \"dtype\": \"number\",\n        \"std\": 54,\n        \"min\": 11904,\n        \"max\": 12066,\n        \"num_unique_values\": 25,\n        \"samples\": [\n          12014,\n          12022,\n          11904\n        ],\n        \"semantic_type\": \"\",\n        \"description\": \"\"\n      }\n    },\n    {\n      \"column\": \"question\",\n      \"properties\": {\n        \"dtype\": \"category\",\n        \"num_unique_values\": 5,\n        \"samples\": [\n          \"what is the difference between tartate and succinate\",\n          \"magellan of virginia provider\",\n          \"wat is dna\"\n        ],\n        \"semantic_type\": \"\",\n        \"description\": \"\"\n      }\n    },\n    {\n      \"column\": \"passages\",\n      \"properties\": {\n        \"dtype\": \"category\",\n        \"num_unique_values\": 5,\n        \"samples\": [\n          \"passage 1:9. Get help from a doctor now \\u203a. Medication duration: Succinate (toprol) is the long acting form of metoprolol where as tartrate (lopressor) is the shorter acting form. Toprol can be taken once a day and Lopressor is usually taken at least twice a day....Read more.Great you're all set!. Get help from a doctor now \\u203a. Medication duration: Succinate (toprol) is the long acting form of metoprolol where as tartrate (lopressor) is the shorter acting form. Toprol can be taken once a day and Lopressor is usually taken at least twice a day.\\n\\npassage 2:Tartrate vs Succinate. The key difference between tartrate and succinate is that succinate is derived from the succinic acid and tartrate is derived from the tartaric acid. These two chemical substances are widely used in the beverage industry and drug manufacturing.Succinic acid is ethan-1,2-dicarboxylic acid. Succinate form of metoprolol is an extended release drug and it plays its role in the circulatory system for 24 hours. However, the tartrate form of metoprolol does not appear in the blood stream for 24 hours because metoprolol tartrate is an immediate-release drug.\\n\\npassage 3:Release time. The primary difference between metoprolol succinate and metoprolol tartrate is the length of time that the drugs stay in your bloodstream. Metoprolol succinate will stay in a person's bloodstream for 24 complete hours. This means that the medication is a once per day pill.Metoprolol tartrate, on the other hand, will not stay in the bloodstream as long and thus needs to be taken at regular intervals.etoprolol succinate has a greater dehydrating effect. Thus, the side effects constipation and dry mouth are primarily associated with this version of the medication. Conversely, metoprolol tartrate may cause diarrhea. It also has the potential to cause sleep issues such as insomnia or unusual dreams.\\n\\n\",\n          \"passage 1:Magellan offers continuing education clock hours/credits for the e-learning courses listed on this page. CE Clock Hours/Credits Magellan is approved to offer CE clock hours/credits by the following organizations when indicated on the course promotional material. American Psychological Association (APA) Association of Social Work Boards (ASWB)\\n\\npassage 2:Magellan of Virginia was selected by the Virginia Department of Medical Assistance Services (DMAS) to serve as the Behavioral Health Services Administrator (BHSA). Magellan administers behavioral health services for members enrolled in Virginia\\u2019s Medicaid and FAMIS programs. This site is for members receiving behavioral health services in Virginia, their families and friends, and providers. Mission. Magellan of Virginia ensures quality behavioral health services are delivered to Virginia Medicaid enrollees. Partnering with members, providers and stakeholders, we elevate the quality and satisfaction in healthcare delivery. We work to improve the overall health and well-being of Virginians.\\n\\npassage 3:Provider Q&A Sessions on Fridays Magellan of Virginia hosts a weekly call each Friday from 1 p.m. - 2:30 p.m. The call is open to all providers to address their questions and issues. The weekly calls will continue until further notice.\\n\\n\",\n          \"passage 1:Report Abuse. Deoxyribonucleic acid (DNA) is a nucleic acid that contains the genetic instructions used in the development and functioning of all known living organisms and some viruses. The main role of DNA molecules is the long-term storage of information.eport Abuse. Deoxyribonucleic acid (DNA) is a nucleic acid that contains the genetic instructions used in the development and functioning of all known living organisms and some viruses. The main role of DNA molecules is the long-term storage of information.\\n\\npassage 2:DNA structure. DNA is made up of molecules called nucleotides. Each nucleotide contains a phosphate group, a sugar group and a nitrogen base. The four types of nitrogen bases are adenine (A), thymine (T), guanine (G) and cytosine (C).The order of these bases is what determines DNA's instructions, or genetic code.Similar to the way the order of letters in the alphabet can be used to form a word, the order of nitrogen bases in a DNA sequence forms genes, which in the language of the cell, tells cells how to make proteins.NA structure. DNA is made up of molecules called nucleotides. Each nucleotide contains a phosphate group, a sugar group and a nitrogen base. The four types of nitrogen bases are adenine (A), thymine (T), guanine (G) and cytosine (C).\\n\\npassage 3:DNA is a double helix formed by base pairs attached to a sugar-phosphate backbone. DNA, or deoxyribonucleic acid, is the hereditary material in humans and almost all other organisms.Nearly every cell in a person\\u2019s body has the same DNA.he structure of the double helix is somewhat like a ladder, with the base pairs forming the ladder\\u2019s rungs and the sugar and phosphate molecules forming the vertical sidepieces of the ladder. An important property of DNA is that it can replicate, or make copies of itself.\\n\\n\"\n        ],\n        \"semantic_type\": \"\",\n        \"description\": \"\"\n      }\n    },\n    {\n      \"column\": \"response\",\n      \"properties\": {\n        \"dtype\": \"string\",\n        \"num_unique_values\": 24,\n        \"samples\": [\n          \"Based on the given passages, the main difference between tartate and succinate is their chemical derivation: succinate is derived from succinic acid while tartrate is derived from tartaric acid. Additionally, succinate is an extended-release drug that stays in the bloodstream for 24 hours, making it a once-per-day pill. On the other hand, tartrate is an immediate-release drug that does not stay in the bloodstream for 24 hours and needs to be taken at regular intervals. Another important difference is that succinate has a greater dehydrating effect and may cause side effects like constipation and dry mouth, whereas tartrate may cause diarrhea and sleep issues like insomnia or unusual dreams.\",\n          \"Based on the given passages, DNA (deoxyribonucleic acid) is a nucleic acid that contains the genetic instructions used in the development and functioning of all known living organisms and some viruses. It is a double helix formed by base pairs attached to a sugar-phosphate backbone, with the base pairs forming the ladder's rungs and the sugar and phosphate molecules forming the vertical sidepieces of the ladder. The order of the nitrogen bases in a DNA sequence forms genes, which provide the instructions for making proteins.\",\n          \"Automotive technicians can be paid in various ways depending on factors such as where they work, whether they are paid commission, how much they earn, and the state in which they work. Some may be entitled to overtime under certain conditions. They can be paid based on different combinations of hourly and commission rates, which can vary depending on their specialization. The amount they earn can also vary depending on geographical location. For example, automotive technicians in Alaska have the highest average pay of about $23.70 per hour or $49,400 per year. Some automotive technicians that work in aerospace products and parts manufacturing can earn about $32 per hour or $66,300 per year on average.\"\n        ],\n        \"semantic_type\": \"\",\n        \"description\": \"\"\n      }\n    },\n    {\n      \"column\": \"score\",\n      \"properties\": {\n        \"dtype\": \"number\",\n        \"std\": 0,\n        \"min\": 0,\n        \"max\": 1,\n        \"num_unique_values\": 2,\n        \"samples\": [\n          0,\n          1\n        ],\n        \"semantic_type\": \"\",\n        \"description\": \"\"\n      }\n    },\n    {\n      \"column\": \"selene_score\",\n      \"properties\": {\n        \"dtype\": \"number\",\n        \"std\": 0,\n        \"min\": 0,\n        \"max\": 1,\n        \"num_unique_values\": 2,\n        \"samples\": [\n          0,\n          1\n        ],\n        \"semantic_type\": \"\",\n        \"description\": \"\"\n      }\n    },\n    {\n      \"column\": \"selene_critique\",\n      \"properties\": {\n        \"dtype\": \"string\",\n        \"num_unique_values\": 25,\n        \"samples\": [\n          \"The response accurately identifies the key differences between tartrate and succinate, including their chemical derivation, release time, and side effects. It correctly states that succinate is an extended-release drug that stays in the bloodstream for 24 hours, while tartrate is an immediate-release drug that requires more frequent dosing. Additionally, the response accurately notes the potential side effects associated with each form of the medication. The information provided is directly supported by the context of the passages, without any fabricated or hallucinated details.\",\n          \"The response accurately defines DNA and its structure, directly supported by the information provided in the passages. It correctly identifies DNA as a nucleic acid containing genetic instructions and describes its double helix structure. The response also accurately explains the role of nitrogen bases in forming genes and providing instructions for making proteins. There are no fabricated or hallucinated details, and the information is well-organized and clear.\"\n        ],\n        \"semantic_type\": \"\",\n        \"description\": \"\"\n      }\n    }\n  ]\n}",
              "type": "dataframe",
              "variable_name": "hallucination_evaluated"
            },
            "text/html": [
              "\n",
              "  <div id=\"df-5f69f9e4-c3a1-4b93-940c-54199b988942\" class=\"colab-df-container\">\n",
              "    <div>\n",
              "<style scoped>\n",
              "    .dataframe tbody tr th:only-of-type {\n",
              "        vertical-align: middle;\n",
              "    }\n",
              "\n",
              "    .dataframe tbody tr th {\n",
              "        vertical-align: top;\n",
              "    }\n",
              "\n",
              "    .dataframe thead th {\n",
              "        text-align: right;\n",
              "    }\n",
              "</style>\n",
              "<table border=\"1\" class=\"dataframe\">\n",
              "  <thead>\n",
              "    <tr style=\"text-align: right;\">\n",
              "      <th></th>\n",
              "      <th>id</th>\n",
              "      <th>question</th>\n",
              "      <th>passages</th>\n",
              "      <th>response</th>\n",
              "      <th>score</th>\n",
              "      <th>selene_score</th>\n",
              "      <th>selene_critique</th>\n",
              "    </tr>\n",
              "  </thead>\n",
              "  <tbody>\n",
              "    <tr>\n",
              "      <th>0</th>\n",
              "      <td>11904</td>\n",
              "      <td>how do automotive technicians get paid</td>\n",
              "      <td>passage 1:In short, whether mechanics and tech...</td>\n",
              "      <td>Automotive technicians can be paid in various ...</td>\n",
              "      <td>1</td>\n",
              "      <td>1</td>\n",
              "      <td>The response accurately reflects the informati...</td>\n",
              "    </tr>\n",
              "    <tr>\n",
              "      <th>1</th>\n",
              "      <td>11905</td>\n",
              "      <td>how do automotive technicians get paid</td>\n",
              "      <td>passage 1:In short, whether mechanics and tech...</td>\n",
              "      <td>Automotive technicians can be paid through a c...</td>\n",
              "      <td>1</td>\n",
              "      <td>1</td>\n",
              "      <td>The response accurately reflects the payment m...</td>\n",
              "    </tr>\n",
              "    <tr>\n",
              "      <th>2</th>\n",
              "      <td>11906</td>\n",
              "      <td>how do automotive technicians get paid</td>\n",
              "      <td>passage 1:In short, whether mechanics and tech...</td>\n",
              "      <td>Unable to answer based on given passages.</td>\n",
              "      <td>1</td>\n",
              "      <td>1</td>\n",
              "      <td>The response is factually accurate in stating ...</td>\n",
              "    </tr>\n",
              "    <tr>\n",
              "      <th>3</th>\n",
              "      <td>11907</td>\n",
              "      <td>how do automotive technicians get paid</td>\n",
              "      <td>passage 1:In short, whether mechanics and tech...</td>\n",
              "      <td>Based on the provided passages, here is the an...</td>\n",
              "      <td>1</td>\n",
              "      <td>1</td>\n",
              "      <td>The response accurately reflects the informati...</td>\n",
              "    </tr>\n",
              "    <tr>\n",
              "      <th>4</th>\n",
              "      <td>11908</td>\n",
              "      <td>how do automotive technicians get paid</td>\n",
              "      <td>passage 1:In short, whether mechanics and tech...</td>\n",
              "      <td>Based on the provided passages, automotive tec...</td>\n",
              "      <td>0</td>\n",
              "      <td>0</td>\n",
              "      <td>The response accurately identifies that automo...</td>\n",
              "    </tr>\n",
              "  </tbody>\n",
              "</table>\n",
              "</div>\n",
              "    <div class=\"colab-df-buttons\">\n",
              "\n",
              "  <div class=\"colab-df-container\">\n",
              "    <button class=\"colab-df-convert\" onclick=\"convertToInteractive('df-5f69f9e4-c3a1-4b93-940c-54199b988942')\"\n",
              "            title=\"Convert this dataframe to an interactive table.\"\n",
              "            style=\"display:none;\">\n",
              "\n",
              "  <svg xmlns=\"http://www.w3.org/2000/svg\" height=\"24px\" viewBox=\"0 -960 960 960\">\n",
              "    <path d=\"M120-120v-720h720v720H120Zm60-500h600v-160H180v160Zm220 220h160v-160H400v160Zm0 220h160v-160H400v160ZM180-400h160v-160H180v160Zm440 0h160v-160H620v160ZM180-180h160v-160H180v160Zm440 0h160v-160H620v160Z\"/>\n",
              "  </svg>\n",
              "    </button>\n",
              "\n",
              "  <style>\n",
              "    .colab-df-container {\n",
              "      display:flex;\n",
              "      gap: 12px;\n",
              "    }\n",
              "\n",
              "    .colab-df-convert {\n",
              "      background-color: #E8F0FE;\n",
              "      border: none;\n",
              "      border-radius: 50%;\n",
              "      cursor: pointer;\n",
              "      display: none;\n",
              "      fill: #1967D2;\n",
              "      height: 32px;\n",
              "      padding: 0 0 0 0;\n",
              "      width: 32px;\n",
              "    }\n",
              "\n",
              "    .colab-df-convert:hover {\n",
              "      background-color: #E2EBFA;\n",
              "      box-shadow: 0px 1px 2px rgba(60, 64, 67, 0.3), 0px 1px 3px 1px rgba(60, 64, 67, 0.15);\n",
              "      fill: #174EA6;\n",
              "    }\n",
              "\n",
              "    .colab-df-buttons div {\n",
              "      margin-bottom: 4px;\n",
              "    }\n",
              "\n",
              "    [theme=dark] .colab-df-convert {\n",
              "      background-color: #3B4455;\n",
              "      fill: #D2E3FC;\n",
              "    }\n",
              "\n",
              "    [theme=dark] .colab-df-convert:hover {\n",
              "      background-color: #434B5C;\n",
              "      box-shadow: 0px 1px 3px 1px rgba(0, 0, 0, 0.15);\n",
              "      filter: drop-shadow(0px 1px 2px rgba(0, 0, 0, 0.3));\n",
              "      fill: #FFFFFF;\n",
              "    }\n",
              "  </style>\n",
              "\n",
              "    <script>\n",
              "      const buttonEl =\n",
              "        document.querySelector('#df-5f69f9e4-c3a1-4b93-940c-54199b988942 button.colab-df-convert');\n",
              "      buttonEl.style.display =\n",
              "        google.colab.kernel.accessAllowed ? 'block' : 'none';\n",
              "\n",
              "      async function convertToInteractive(key) {\n",
              "        const element = document.querySelector('#df-5f69f9e4-c3a1-4b93-940c-54199b988942');\n",
              "        const dataTable =\n",
              "          await google.colab.kernel.invokeFunction('convertToInteractive',\n",
              "                                                    [key], {});\n",
              "        if (!dataTable) return;\n",
              "\n",
              "        const docLinkHtml = 'Like what you see? Visit the ' +\n",
              "          '<a target=\"_blank\" href=https://colab.research.google.com/notebooks/data_table.ipynb>data table notebook</a>'\n",
              "          + ' to learn more about interactive tables.';\n",
              "        element.innerHTML = '';\n",
              "        dataTable['output_type'] = 'display_data';\n",
              "        await google.colab.output.renderOutput(dataTable, element);\n",
              "        const docLink = document.createElement('div');\n",
              "        docLink.innerHTML = docLinkHtml;\n",
              "        element.appendChild(docLink);\n",
              "      }\n",
              "    </script>\n",
              "  </div>\n",
              "\n",
              "\n",
              "<div id=\"df-92115e46-91e4-491e-9858-aa52b8308ce7\">\n",
              "  <button class=\"colab-df-quickchart\" onclick=\"quickchart('df-92115e46-91e4-491e-9858-aa52b8308ce7')\"\n",
              "            title=\"Suggest charts\"\n",
              "            style=\"display:none;\">\n",
              "\n",
              "<svg xmlns=\"http://www.w3.org/2000/svg\" height=\"24px\"viewBox=\"0 0 24 24\"\n",
              "     width=\"24px\">\n",
              "    <g>\n",
              "        <path d=\"M19 3H5c-1.1 0-2 .9-2 2v14c0 1.1.9 2 2 2h14c1.1 0 2-.9 2-2V5c0-1.1-.9-2-2-2zM9 17H7v-7h2v7zm4 0h-2V7h2v10zm4 0h-2v-4h2v4z\"/>\n",
              "    </g>\n",
              "</svg>\n",
              "  </button>\n",
              "\n",
              "<style>\n",
              "  .colab-df-quickchart {\n",
              "      --bg-color: #E8F0FE;\n",
              "      --fill-color: #1967D2;\n",
              "      --hover-bg-color: #E2EBFA;\n",
              "      --hover-fill-color: #174EA6;\n",
              "      --disabled-fill-color: #AAA;\n",
              "      --disabled-bg-color: #DDD;\n",
              "  }\n",
              "\n",
              "  [theme=dark] .colab-df-quickchart {\n",
              "      --bg-color: #3B4455;\n",
              "      --fill-color: #D2E3FC;\n",
              "      --hover-bg-color: #434B5C;\n",
              "      --hover-fill-color: #FFFFFF;\n",
              "      --disabled-bg-color: #3B4455;\n",
              "      --disabled-fill-color: #666;\n",
              "  }\n",
              "\n",
              "  .colab-df-quickchart {\n",
              "    background-color: var(--bg-color);\n",
              "    border: none;\n",
              "    border-radius: 50%;\n",
              "    cursor: pointer;\n",
              "    display: none;\n",
              "    fill: var(--fill-color);\n",
              "    height: 32px;\n",
              "    padding: 0;\n",
              "    width: 32px;\n",
              "  }\n",
              "\n",
              "  .colab-df-quickchart:hover {\n",
              "    background-color: var(--hover-bg-color);\n",
              "    box-shadow: 0 1px 2px rgba(60, 64, 67, 0.3), 0 1px 3px 1px rgba(60, 64, 67, 0.15);\n",
              "    fill: var(--button-hover-fill-color);\n",
              "  }\n",
              "\n",
              "  .colab-df-quickchart-complete:disabled,\n",
              "  .colab-df-quickchart-complete:disabled:hover {\n",
              "    background-color: var(--disabled-bg-color);\n",
              "    fill: var(--disabled-fill-color);\n",
              "    box-shadow: none;\n",
              "  }\n",
              "\n",
              "  .colab-df-spinner {\n",
              "    border: 2px solid var(--fill-color);\n",
              "    border-color: transparent;\n",
              "    border-bottom-color: var(--fill-color);\n",
              "    animation:\n",
              "      spin 1s steps(1) infinite;\n",
              "  }\n",
              "\n",
              "  @keyframes spin {\n",
              "    0% {\n",
              "      border-color: transparent;\n",
              "      border-bottom-color: var(--fill-color);\n",
              "      border-left-color: var(--fill-color);\n",
              "    }\n",
              "    20% {\n",
              "      border-color: transparent;\n",
              "      border-left-color: var(--fill-color);\n",
              "      border-top-color: var(--fill-color);\n",
              "    }\n",
              "    30% {\n",
              "      border-color: transparent;\n",
              "      border-left-color: var(--fill-color);\n",
              "      border-top-color: var(--fill-color);\n",
              "      border-right-color: var(--fill-color);\n",
              "    }\n",
              "    40% {\n",
              "      border-color: transparent;\n",
              "      border-right-color: var(--fill-color);\n",
              "      border-top-color: var(--fill-color);\n",
              "    }\n",
              "    60% {\n",
              "      border-color: transparent;\n",
              "      border-right-color: var(--fill-color);\n",
              "    }\n",
              "    80% {\n",
              "      border-color: transparent;\n",
              "      border-right-color: var(--fill-color);\n",
              "      border-bottom-color: var(--fill-color);\n",
              "    }\n",
              "    90% {\n",
              "      border-color: transparent;\n",
              "      border-bottom-color: var(--fill-color);\n",
              "    }\n",
              "  }\n",
              "</style>\n",
              "\n",
              "  <script>\n",
              "    async function quickchart(key) {\n",
              "      const quickchartButtonEl =\n",
              "        document.querySelector('#' + key + ' button');\n",
              "      quickchartButtonEl.disabled = true;  // To prevent multiple clicks.\n",
              "      quickchartButtonEl.classList.add('colab-df-spinner');\n",
              "      try {\n",
              "        const charts = await google.colab.kernel.invokeFunction(\n",
              "            'suggestCharts', [key], {});\n",
              "      } catch (error) {\n",
              "        console.error('Error during call to suggestCharts:', error);\n",
              "      }\n",
              "      quickchartButtonEl.classList.remove('colab-df-spinner');\n",
              "      quickchartButtonEl.classList.add('colab-df-quickchart-complete');\n",
              "    }\n",
              "    (() => {\n",
              "      let quickchartButtonEl =\n",
              "        document.querySelector('#df-92115e46-91e4-491e-9858-aa52b8308ce7 button');\n",
              "      quickchartButtonEl.style.display =\n",
              "        google.colab.kernel.accessAllowed ? 'block' : 'none';\n",
              "    })();\n",
              "  </script>\n",
              "</div>\n",
              "\n",
              "    </div>\n",
              "  </div>\n"
            ],
            "text/plain": [
              "      id                                question  \\\n",
              "0  11904  how do automotive technicians get paid   \n",
              "1  11905  how do automotive technicians get paid   \n",
              "2  11906  how do automotive technicians get paid   \n",
              "3  11907  how do automotive technicians get paid   \n",
              "4  11908  how do automotive technicians get paid   \n",
              "\n",
              "                                            passages  \\\n",
              "0  passage 1:In short, whether mechanics and tech...   \n",
              "1  passage 1:In short, whether mechanics and tech...   \n",
              "2  passage 1:In short, whether mechanics and tech...   \n",
              "3  passage 1:In short, whether mechanics and tech...   \n",
              "4  passage 1:In short, whether mechanics and tech...   \n",
              "\n",
              "                                            response  score  selene_score  \\\n",
              "0  Automotive technicians can be paid in various ...      1             1   \n",
              "1  Automotive technicians can be paid through a c...      1             1   \n",
              "2          Unable to answer based on given passages.      1             1   \n",
              "3  Based on the provided passages, here is the an...      1             1   \n",
              "4  Based on the provided passages, automotive tec...      0             0   \n",
              "\n",
              "                                     selene_critique  \n",
              "0  The response accurately reflects the informati...  \n",
              "1  The response accurately reflects the payment m...  \n",
              "2  The response is factually accurate in stating ...  \n",
              "3  The response accurately reflects the informati...  \n",
              "4  The response accurately identifies that automo...  "
            ]
          },
          "execution_count": 17,
          "metadata": {},
          "output_type": "execute_result"
        }
      ],
      "source": [
        "# Inspect our results.\n",
        "hallucination_evaluated.head()"
      ]
    },
    {
      "cell_type": "markdown",
      "metadata": {
        "id": "U-7rzDoSoBIv"
      },
      "source": [
        "### Inspect results\n",
        "\n",
        "Let's see how well Selene aligned with the human grades!\n",
        "\n",
        "We look at a few analyses:\n",
        "\n",
        "1. **Accuracy**: This simply tells us how many of the human scores Selene's scores match with.\n",
        "\n",
        "- You'll want this to be as high as possible - a good rule of thumb is to aim for moderate (50-75%) or high (≥75%) accuracy scores.\n",
        "\n",
        "\n",
        "\n",
        "2. **Score Distribution**: This gives us an overview of human vs. Selene score distributions, in case we need to prompt Selene to be harsher or more lenient.\n",
        "- You'll want these score distributions to match closely.\n",
        "\n",
        "\n",
        "3. **Confusion Matrix**: This gives us detail into the specific failure modes of Selene. We can examine false negatives (in our example, where Selene didn't detect hallucinations) and false positives (in our example, where Selene falsely flagged hallucinations).  \n",
        "\n",
        "- You may to want to minimize a certain type of error, depending on your application requirements."
      ]
    },
    {
      "cell_type": "code",
      "execution_count": 18,
      "metadata": {
        "id": "nVVX8IzDoBIv"
      },
      "outputs": [],
      "source": [
        "import matplotlib.pyplot as plt\n",
        "import seaborn as sns\n",
        "import numpy as np\n",
        "from sklearn.metrics import confusion_matrix"
      ]
    },
    {
      "cell_type": "markdown",
      "metadata": {
        "id": "pBV3X5YH9nqd"
      },
      "source": [
        "#### Accuracy"
      ]
    },
    {
      "cell_type": "code",
      "execution_count": 19,
      "metadata": {
        "colab": {
          "base_uri": "https://localhost:8080/"
        },
        "id": "TWRasnLxoBIv",
        "outputId": "4b59968b-427a-4ff3-c4c9-27fd075bbbd3"
      },
      "outputs": [
        {
          "name": "stdout",
          "output_type": "stream",
          "text": [
            "Correct: 24, Incorrect: 1\n",
            "Accuracy: 0.96\n"
          ]
        }
      ],
      "source": [
        "correct = (hallucination_evaluated['selene_score'] == hallucination_evaluated['score']).sum()\n",
        "incorrect = (hallucination_evaluated['selene_score'] != hallucination_evaluated['score']).sum()\n",
        "print(f\"Correct: {correct}, Incorrect: {incorrect}\")\n",
        "print(f\"Accuracy: {correct / (correct + incorrect)}\")"
      ]
    },
    {
      "cell_type": "markdown",
      "metadata": {
        "id": "G9HLOC7M-FD2"
      },
      "source": [
        "#### Score distribution"
      ]
    },
    {
      "cell_type": "code",
      "execution_count": 20,
      "metadata": {
        "colab": {
          "base_uri": "https://localhost:8080/",
          "height": 487
        },
        "id": "yNzoLs8zoBIv",
        "outputId": "0cc73e26-39ef-4ccc-97dc-614c015c75fb"
      },
      "outputs": [
        {
          "data": {
            "image/png": "[encoded data removed]",
            "text/plain": [
              "<Figure size 640x480 with 2 Axes>"
            ]
          },
          "metadata": {},
          "output_type": "display_data"
        }
      ],
      "source": [
        "plt.subplot(132)\n",
        "hallucination_evaluated['score'].value_counts().sort_index().plot(kind='bar', color='salmon')\n",
        "plt.title('Human Score Distribution')\n",
        "plt.xlabel('Score (0 or 1)')\n",
        "plt.ylabel('Frequency')\n",
        "plt.xticks([0, 1], [0, 1])\n",
        "\n",
        "plt.subplot(133)\n",
        "hallucination_evaluated['selene_score'].value_counts().sort_index().plot(kind='bar', color='skyblue')\n",
        "plt.title('Selene Score Distribution')\n",
        "plt.xlabel('Selene| Score (0 or 1)')\n",
        "plt.ylabel('Frequency')\n",
        "plt.xticks([0, 1], [0, 1])\n",
        "\n",
        "plt.tight_layout()\n",
        "plt.show()"
      ]
    },
    {
      "cell_type": "markdown",
      "metadata": {
        "id": "ZnUpkSwu86nK"
      },
      "source": [
        "Here we have a pretty good match! Humans mostly labelled for no hallucination in our test data, and so did Selene."
      ]
    },
    {
      "cell_type": "markdown",
      "metadata": {
        "id": "J-cpIJlh-JsX"
      },
      "source": [
        "#### Confusion matrix"
      ]
    },
    {
      "cell_type": "code",
      "execution_count": 21,
      "metadata": {
        "colab": {
          "base_uri": "https://localhost:8080/",
          "height": 487
        },
        "id": "5aDiJzvGoBIv",
        "outputId": "5929d065-c4ed-4777-f4f3-3166f77b5155"
      },
      "outputs": [
        {
          "data": {
            "image/png": "[encoded data removed]",
            "text/plain": [
              "<Figure size 600x500 with 2 Axes>"
            ]
          },
          "metadata": {},
          "output_type": "display_data"
        }
      ],
      "source": [
        "plt.figure(figsize=(6, 5))\n",
        "cm = confusion_matrix(hallucination_evaluated['score'], hallucination_evaluated['selene_score'])\n",
        "sns.heatmap(cm, annot=True, fmt='d', cmap='Blues',\n",
        "            xticklabels=[0, 1], yticklabels=[0, 1])\n",
        "plt.title('Confusion Matrix')\n",
        "plt.xlabel('Predicted (Selene Score)')\n",
        "plt.ylabel('Actual (Human Score)')\n",
        "plt.show()"
      ]
    },
    {
      "cell_type": "markdown",
      "metadata": {
        "id": "Nm2K6A0ISY7x"
      },
      "source": [
        "Here, we care more about false negatives (the top-right cell in our confusion matrix) as we want to minimize missing human-labeled hallucinations. There is only one sample in the top right - which gives us confidence!\n",
        "\n",
        "As best practice, you can inspect this sample to confirm the accuracy of the human label. If you agree with it, consider adding it as a few-shot example to help seed your custom evaluation metric."
      ]
    },
    {
      "cell_type": "markdown",
      "metadata": {
        "id": "OXnoO5PS-LyI"
      },
      "source": [
        "### Conclusions"
      ]
    },
    {
      "cell_type": "markdown",
      "metadata": {
        "id": "1IQvU_nBodsR"
      },
      "source": [
        "As we can see from the experiment above, Selene is exceptionally capable out of the box on standard benchmarks.\n",
        "\n",
        "With the Atla [Alignment Platform](https://docs.atla-ai.com/build/usage/alignment-platform), you can fine-tune eval prompts for your specific use cases on your own data to achieve even better results!\n",
        "\n",
        "[Sign up here](https://www.atla-ai.com/sign-up) to get access right away.\n",
        "Join our [Discord](https://discord.gg/qFCMgkGwUK) or [email us](mailto:support@atla-ai.com) if we can support you in any way on your eval journey."
      ]
    }
  ],
  "metadata": {
    "accelerator": "GPU",
    "colab": {
      "gpuType": "T4",
      "provenance": [],
      "toc_visible": true
    },
    "kernelspec": {
      "display_name": "jupyter_env",
      "language": "python",
      "name": "python3"
    },
    "language_info": {
      "codemirror_mode": {
        "name": "ipython",
        "version": 3
      },
      "file_extension": ".py",
      "mimetype": "text/x-python",
      "name": "python",
      "nbconvert_exporter": "python",
      "pygments_lexer": "ipython3",
      "version": "3.12.3"
    },
    "widgets": {
      "application/vnd.jupyter.widget-state+json": {
        "079745efe4b44943b93e16f10f744cb5": {
          "model_module": "@jupyter-widgets/controls",
          "model_module_version": "1.5.0",
          "model_name": "DescriptionStyleModel",
          "state": {
            "_model_module": "@jupyter-widgets/controls",
            "_model_module_version": "1.5.0",
            "_model_name": "DescriptionStyleModel",
            "_view_count": null,
            "_view_module": "@jupyter-widgets/base",
            "_view_module_version": "1.2.0",
            "_view_name": "StyleView",
            "description_width": ""
          }
        },
        "34335caab6aa443ea19e11342638fb13": {
          "model_module": "@jupyter-widgets/controls",
          "model_module_version": "1.5.0",
          "model_name": "HTMLModel",
          "state": {
            "_dom_classes": [],
            "_model_module": "@jupyter-widgets/controls",
            "_model_module_version": "1.5.0",
            "_model_name": "HTMLModel",
            "_view_count": null,
            "_view_module": "@jupyter-widgets/controls",
            "_view_module_version": "1.5.0",
            "_view_name": "HTMLView",
            "description": "",
            "description_tooltip": null,
            "layout": "IPY_MODEL_5e302a370a7944aa9ceb23f622520cae",
            "placeholder": "​",
            "style": "IPY_MODEL_079745efe4b44943b93e16f10f744cb5",
            "value": "README.md: 100%"
          }
        },
        "4240dccc3e0a46f2a7a7eae026ed31aa": {
          "model_module": "@jupyter-widgets/controls",
          "model_module_version": "1.5.0",
          "model_name": "HTMLModel",
          "state": {
            "_dom_classes": [],
            "_model_module": "@jupyter-widgets/controls",
            "_model_module_version": "1.5.0",
            "_model_name": "HTMLModel",
            "_view_count": null,
            "_view_module": "@jupyter-widgets/controls",
            "_view_module_version": "1.5.0",
            "_view_name": "HTMLView",
            "description": "",
            "description_tooltip": null,
            "layout": "IPY_MODEL_bfc579f5c59146b686e7ae71f75f396d",
            "placeholder": "​",
            "style": "IPY_MODEL_ad02203c01494eb89f38eb3e479eedde",
            "value": " 4.23k/4.23k [00:00&lt;00:00, 166kB/s]"
          }
        },
        "5e302a370a7944aa9ceb23f622520cae": {
          "model_module": "@jupyter-widgets/base",
          "model_module_version": "1.2.0",
          "model_name": "LayoutModel",
          "state": {
            "_model_module": "@jupyter-widgets/base",
            "_model_module_version": "1.2.0",
            "_model_name": "LayoutModel",
            "_view_count": null,
            "_view_module": "@jupyter-widgets/base",
            "_view_module_version": "1.2.0",
            "_view_name": "LayoutView",
            "align_content": null,
            "align_items": null,
            "align_self": null,
            "border": null,
            "bottom": null,
            "display": null,
            "flex": null,
            "flex_flow": null,
            "grid_area": null,
            "grid_auto_columns": null,
            "grid_auto_flow": null,
            "grid_auto_rows": null,
            "grid_column": null,
            "grid_gap": null,
            "grid_row": null,
            "grid_template_areas": null,
            "grid_template_columns": null,
            "grid_template_rows": null,
            "height": null,
            "justify_content": null,
            "justify_items": null,
            "left": null,
            "margin": null,
            "max_height": null,
            "max_width": null,
            "min_height": null,
            "min_width": null,
            "object_fit": null,
            "object_position": null,
            "order": null,
            "overflow": null,
            "overflow_x": null,
            "overflow_y": null,
            "padding": null,
            "right": null,
            "top": null,
            "visibility": null,
            "width": null
          }
        },
        "6cf793c8dc7f45e0a9591842a9741131": {
          "model_module": "@jupyter-widgets/controls",
          "model_module_version": "1.5.0",
          "model_name": "FloatProgressModel",
          "state": {
            "_dom_classes": [],
            "_model_module": "@jupyter-widgets/controls",
            "_model_module_version": "1.5.0",
            "_model_name": "FloatProgressModel",
            "_view_count": null,
            "_view_module": "@jupyter-widgets/controls",
            "_view_module_version": "1.5.0",
            "_view_name": "ProgressView",
            "bar_style": "success",
            "description": "",
            "description_tooltip": null,
            "layout": "IPY_MODEL_e0847a0381c44f8b8dec21b7fef130e0",
            "max": 4227,
            "min": 0,
            "orientation": "horizontal",
            "style": "IPY_MODEL_6e27577efa394fe1b69d80bff04e7ce1",
            "value": 4227
          }
        },
        "6e27577efa394fe1b69d80bff04e7ce1": {
          "model_module": "@jupyter-widgets/controls",
          "model_module_version": "1.5.0",
          "model_name": "ProgressStyleModel",
          "state": {
            "_model_module": "@jupyter-widgets/controls",
            "_model_module_version": "1.5.0",
            "_model_name": "ProgressStyleModel",
            "_view_count": null,
            "_view_module": "@jupyter-widgets/base",
            "_view_module_version": "1.2.0",
            "_view_name": "StyleView",
            "bar_color": null,
            "description_width": ""
          }
        },
        "ad02203c01494eb89f38eb3e479eedde": {
          "model_module": "@jupyter-widgets/controls",
          "model_module_version": "1.5.0",
          "model_name": "DescriptionStyleModel",
          "state": {
            "_model_module": "@jupyter-widgets/controls",
            "_model_module_version": "1.5.0",
            "_model_name": "DescriptionStyleModel",
            "_view_count": null,
            "_view_module": "@jupyter-widgets/base",
            "_view_module_version": "1.2.0",
            "_view_name": "StyleView",
            "description_width": ""
          }
        },
        "bfc579f5c59146b686e7ae71f75f396d": {
          "model_module": "@jupyter-widgets/base",
          "model_module_version": "1.2.0",
          "model_name": "LayoutModel",
          "state": {
            "_model_module": "@jupyter-widgets/base",
            "_model_module_version": "1.2.0",
            "_model_name": "LayoutModel",
            "_view_count": null,
            "_view_module": "@jupyter-widgets/base",
            "_view_module_version": "1.2.0",
            "_view_name": "LayoutView",
            "align_content": null,
            "align_items": null,
            "align_self": null,
            "border": null,
            "bottom": null,
            "display": null,
            "flex": null,
            "flex_flow": null,
            "grid_area": null,
            "grid_auto_columns": null,
            "grid_auto_flow": null,
            "grid_auto_rows": null,
            "grid_column": null,
            "grid_gap": null,
            "grid_row": null,
            "grid_template_areas": null,
            "grid_template_columns": null,
            "grid_template_rows": null,
            "height": null,
            "justify_content": null,
            "justify_items": null,
            "left": null,
            "margin": null,
            "max_height": null,
            "max_width": null,
            "min_height": null,
            "min_width": null,
            "object_fit": null,
            "object_position": null,
            "order": null,
            "overflow": null,
            "overflow_x": null,
            "overflow_y": null,
            "padding": null,
            "right": null,
            "top": null,
            "visibility": null,
            "width": null
          }
        },
        "deec5c84cb0d45e6b98cb07059d0ea31": {
          "model_module": "@jupyter-widgets/base",
          "model_module_version": "1.2.0",
          "model_name": "LayoutModel",
          "state": {
            "_model_module": "@jupyter-widgets/base",
            "_model_module_version": "1.2.0",
            "_model_name": "LayoutModel",
            "_view_count": null,
            "_view_module": "@jupyter-widgets/base",
            "_view_module_version": "1.2.0",
            "_view_name": "LayoutView",
            "align_content": null,
            "align_items": null,
            "align_self": null,
            "border": null,
            "bottom": null,
            "display": null,
            "flex": null,
            "flex_flow": null,
            "grid_area": null,
            "grid_auto_columns": null,
            "grid_auto_flow": null,
            "grid_auto_rows": null,
            "grid_column": null,
            "grid_gap": null,
            "grid_row": null,
            "grid_template_areas": null,
            "grid_template_columns": null,
            "grid_template_rows": null,
            "height": null,
            "justify_content": null,
            "justify_items": null,
            "left": null,
            "margin": null,
            "max_height": null,
            "max_width": null,
            "min_height": null,
            "min_width": null,
            "object_fit": null,
            "object_position": null,
            "order": null,
            "overflow": null,
            "overflow_x": null,
            "overflow_y": null,
            "padding": null,
            "right": null,
            "top": null,
            "visibility": null,
            "width": null
          }
        },
        "e0847a0381c44f8b8dec21b7fef130e0": {
          "model_module": "@jupyter-widgets/base",
          "model_module_version": "1.2.0",
          "model_name": "LayoutModel",
          "state": {
            "_model_module": "@jupyter-widgets/base",
            "_model_module_version": "1.2.0",
            "_model_name": "LayoutModel",
            "_view_count": null,
            "_view_module": "@jupyter-widgets/base",
            "_view_module_version": "1.2.0",
            "_view_name": "LayoutView",
            "align_content": null,
            "align_items": null,
            "align_self": null,
            "border": null,
            "bottom": null,
            "display": null,
            "flex": null,
            "flex_flow": null,
            "grid_area": null,
            "grid_auto_columns": null,
            "grid_auto_flow": null,
            "grid_auto_rows": null,
            "grid_column": null,
            "grid_gap": null,
            "grid_row": null,
            "grid_template_areas": null,
            "grid_template_columns": null,
            "grid_template_rows": null,
            "height": null,
            "justify_content": null,
            "justify_items": null,
            "left": null,
            "margin": null,
            "max_height": null,
            "max_width": null,
            "min_height": null,
            "min_width": null,
            "object_fit": null,
            "object_position": null,
            "order": null,
            "overflow": null,
            "overflow_x": null,
            "overflow_y": null,
            "padding": null,
            "right": null,
            "top": null,
            "visibility": null,
            "width": null
          }
        },
        "f55b9c35554942828e89387334a79b24": {
          "model_module": "@jupyter-widgets/controls",
          "model_module_version": "1.5.0",
          "model_name": "HBoxModel",
          "state": {
            "_dom_classes": [],
            "_model_module": "@jupyter-widgets/controls",
            "_model_module_version": "1.5.0",
            "_model_name": "HBoxModel",
            "_view_count": null,
            "_view_module": "@jupyter-widgets/controls",
            "_view_module_version": "1.5.0",
            "_view_name": "HBoxView",
            "box_style": "",
            "children": [
              "IPY_MODEL_34335caab6aa443ea19e11342638fb13",
              "IPY_MODEL_6cf793c8dc7f45e0a9591842a9741131",
              "IPY_MODEL_4240dccc3e0a46f2a7a7eae026ed31aa"
            ],
            "layout": "IPY_MODEL_deec5c84cb0d45e6b98cb07059d0ea31"
          }
        }
      }
    }
  },
  "nbformat": 4,
  "nbformat_minor": 0
}
